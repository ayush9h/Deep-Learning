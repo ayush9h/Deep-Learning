{
 "cells": [
  {
   "cell_type": "code",
   "execution_count": 1,
   "metadata": {},
   "outputs": [],
   "source": [
    "import pandas as pd\n",
    "import numpy as np"
   ]
  },
  {
   "cell_type": "markdown",
   "metadata": {},
   "source": [
    "Reading CSV File"
   ]
  },
  {
   "cell_type": "code",
   "execution_count": 2,
   "metadata": {},
   "outputs": [
    {
     "data": {
      "text/html": [
       "<div>\n",
       "<style scoped>\n",
       "    .dataframe tbody tr th:only-of-type {\n",
       "        vertical-align: middle;\n",
       "    }\n",
       "\n",
       "    .dataframe tbody tr th {\n",
       "        vertical-align: top;\n",
       "    }\n",
       "\n",
       "    .dataframe thead th {\n",
       "        text-align: right;\n",
       "    }\n",
       "</style>\n",
       "<table border=\"1\" class=\"dataframe\">\n",
       "  <thead>\n",
       "    <tr style=\"text-align: right;\">\n",
       "      <th></th>\n",
       "      <th>article_id</th>\n",
       "      <th>article_desc</th>\n",
       "    </tr>\n",
       "  </thead>\n",
       "  <tbody>\n",
       "    <tr>\n",
       "      <th>0</th>\n",
       "      <td>Article 1 of Indian Constitution</td>\n",
       "      <td>Name and territory of the Union India, that is...</td>\n",
       "    </tr>\n",
       "    <tr>\n",
       "      <th>1</th>\n",
       "      <td>Article 2 of Indian Constitution</td>\n",
       "      <td>Admission or establishment of new States: Parl...</td>\n",
       "    </tr>\n",
       "    <tr>\n",
       "      <th>2</th>\n",
       "      <td>Article 2A of Indian Constitution</td>\n",
       "      <td>Sikkim to be associated with the Union Rep by ...</td>\n",
       "    </tr>\n",
       "    <tr>\n",
       "      <th>3</th>\n",
       "      <td>Article 3 of Indian Constitution</td>\n",
       "      <td>Formation of new States and alteration of area...</td>\n",
       "    </tr>\n",
       "    <tr>\n",
       "      <th>4</th>\n",
       "      <td>Article 4 of Indian Constitution</td>\n",
       "      <td>Laws made under Articles 2 and 3 to provide fo...</td>\n",
       "    </tr>\n",
       "  </tbody>\n",
       "</table>\n",
       "</div>"
      ],
      "text/plain": [
       "                          article_id  \\\n",
       "0   Article 1 of Indian Constitution   \n",
       "1   Article 2 of Indian Constitution   \n",
       "2  Article 2A of Indian Constitution   \n",
       "3   Article 3 of Indian Constitution   \n",
       "4   Article 4 of Indian Constitution   \n",
       "\n",
       "                                        article_desc  \n",
       "0  Name and territory of the Union India, that is...  \n",
       "1  Admission or establishment of new States: Parl...  \n",
       "2  Sikkim to be associated with the Union Rep by ...  \n",
       "3  Formation of new States and alteration of area...  \n",
       "4  Laws made under Articles 2 and 3 to provide fo...  "
      ]
     },
     "execution_count": 2,
     "metadata": {},
     "output_type": "execute_result"
    }
   ],
   "source": [
    "df = pd.read_csv(\"./Final_IC.csv\")\n",
    "df.head(5)"
   ]
  },
  {
   "cell_type": "code",
   "execution_count": 3,
   "metadata": {},
   "outputs": [],
   "source": [
    "df['ques'] = 'What is ' + df['article_id'].astype(str)"
   ]
  },
  {
   "cell_type": "markdown",
   "metadata": {},
   "source": [
    "Preprocessing of the text"
   ]
  },
  {
   "cell_type": "code",
   "execution_count": 4,
   "metadata": {},
   "outputs": [],
   "source": [
    "df['ans'] = df['article_id'].astype(str) + ' states that ' + df['article_desc']\n",
    "df.drop('article_id',inplace=True,axis=1)\n",
    "df.drop('article_desc',inplace=True,axis = 1)"
   ]
  },
  {
   "cell_type": "code",
   "execution_count": 5,
   "metadata": {},
   "outputs": [
    {
     "data": {
      "text/html": [
       "<div>\n",
       "<style scoped>\n",
       "    .dataframe tbody tr th:only-of-type {\n",
       "        vertical-align: middle;\n",
       "    }\n",
       "\n",
       "    .dataframe tbody tr th {\n",
       "        vertical-align: top;\n",
       "    }\n",
       "\n",
       "    .dataframe thead th {\n",
       "        text-align: right;\n",
       "    }\n",
       "</style>\n",
       "<table border=\"1\" class=\"dataframe\">\n",
       "  <thead>\n",
       "    <tr style=\"text-align: right;\">\n",
       "      <th></th>\n",
       "      <th>ques</th>\n",
       "      <th>ans</th>\n",
       "    </tr>\n",
       "  </thead>\n",
       "  <tbody>\n",
       "    <tr>\n",
       "      <th>0</th>\n",
       "      <td>What is Article 1 of Indian Constitution</td>\n",
       "      <td>Article 1 of Indian Constitution states that N...</td>\n",
       "    </tr>\n",
       "    <tr>\n",
       "      <th>1</th>\n",
       "      <td>What is Article 2 of Indian Constitution</td>\n",
       "      <td>Article 2 of Indian Constitution states that A...</td>\n",
       "    </tr>\n",
       "    <tr>\n",
       "      <th>2</th>\n",
       "      <td>What is Article 2A of Indian Constitution</td>\n",
       "      <td>Article 2A of Indian Constitution states that ...</td>\n",
       "    </tr>\n",
       "    <tr>\n",
       "      <th>3</th>\n",
       "      <td>What is Article 3 of Indian Constitution</td>\n",
       "      <td>Article 3 of Indian Constitution states that F...</td>\n",
       "    </tr>\n",
       "    <tr>\n",
       "      <th>4</th>\n",
       "      <td>What is Article 4 of Indian Constitution</td>\n",
       "      <td>Article 4 of Indian Constitution states that L...</td>\n",
       "    </tr>\n",
       "  </tbody>\n",
       "</table>\n",
       "</div>"
      ],
      "text/plain": [
       "                                        ques  \\\n",
       "0   What is Article 1 of Indian Constitution   \n",
       "1   What is Article 2 of Indian Constitution   \n",
       "2  What is Article 2A of Indian Constitution   \n",
       "3   What is Article 3 of Indian Constitution   \n",
       "4   What is Article 4 of Indian Constitution   \n",
       "\n",
       "                                                 ans  \n",
       "0  Article 1 of Indian Constitution states that N...  \n",
       "1  Article 2 of Indian Constitution states that A...  \n",
       "2  Article 2A of Indian Constitution states that ...  \n",
       "3  Article 3 of Indian Constitution states that F...  \n",
       "4  Article 4 of Indian Constitution states that L...  "
      ]
     },
     "execution_count": 5,
     "metadata": {},
     "output_type": "execute_result"
    }
   ],
   "source": [
    "df.head(5)"
   ]
  },
  {
   "cell_type": "code",
   "execution_count": 6,
   "metadata": {},
   "outputs": [],
   "source": [
    "import tensorflow as tf\n",
    "Tokenizer = tf.keras.preprocessing.text.Tokenizer\n",
    "pad_sequences = tf.keras.preprocessing.sequence.pad_sequences\n",
    "Sequential = tf.keras.models.Sequential\n",
    "Embedding = tf.keras.layers.Embedding\n",
    "SimpleRNN = tf.keras.layers.SimpleRNN\n",
    "Dense = tf.keras.layers.Dense\n",
    "LSTM = tf.keras.layers.LSTM\n",
    "Dropout = tf.keras.layers.Dropout"
   ]
  },
  {
   "cell_type": "code",
   "execution_count": 7,
   "metadata": {},
   "outputs": [],
   "source": [
    "questions = df['ques'].tolist()\n",
    "answers = df['ans'].tolist()"
   ]
  },
  {
   "cell_type": "code",
   "execution_count": 8,
   "metadata": {},
   "outputs": [],
   "source": [
    "tokenizer = Tokenizer(char_level=True, lower=True)\n",
    "tokenizer.fit_on_texts(answers)\n",
    "\n",
    "# Convert text to sequences\n",
    "sequences = tokenizer.texts_to_sequences(answers)[0]\n",
    "\n",
    "# Prepare input and target sequences\n",
    "input_sequences = []\n",
    "output_sequences = []\n",
    "\n",
    "sequence_length = 100\n",
    "for i in range(len(sequences) - sequence_length):\n",
    "    input_sequences.append(sequences[i:i + sequence_length])\n",
    "    output_sequences.append(sequences[i + sequence_length])\n",
    "\n",
    "input_sequences = np.array(input_sequences)\n",
    "output_sequences = np.array(output_sequences)\n",
    "\n",
    "vocab_size = len(tokenizer.word_index) + 1"
   ]
  },
  {
   "cell_type": "code",
   "execution_count": 9,
   "metadata": {},
   "outputs": [
    {
     "name": "stdout",
     "output_type": "stream",
     "text": [
      "Model: \"sequential\"\n",
      "_________________________________________________________________\n",
      " Layer (type)                Output Shape              Param #   \n",
      "=================================================================\n",
      " embedding (Embedding)       (None, 100, 32)           1408      \n",
      "                                                                 \n",
      " lstm (LSTM)                 (None, 100, 128)          82432     \n",
      "                                                                 \n",
      " lstm_1 (LSTM)               (None, 128)               131584    \n",
      "                                                                 \n",
      " dense (Dense)               (None, 44)                5676      \n",
      "                                                                 \n",
      "=================================================================\n",
      "Total params: 221100 (863.67 KB)\n",
      "Trainable params: 221100 (863.67 KB)\n",
      "Non-trainable params: 0 (0.00 Byte)\n",
      "_________________________________________________________________\n"
     ]
    }
   ],
   "source": [
    "model = Sequential([\n",
    "    Embedding(vocab_size, 32, input_length=sequence_length),\n",
    "    LSTM(128, return_sequences=True, dropout=0.2, recurrent_dropout=0.2),\n",
    "    LSTM(128, dropout=0.2, recurrent_dropout=0.2),\n",
    "    Dense(vocab_size, activation=\"softmax\"),\n",
    "])\n",
    "\n",
    "model.compile(loss=\"sparse_categorical_crossentropy\", optimizer=\"adam\", metrics=[\"accuracy\"])\n",
    "model.summary()"
   ]
  },
  {
   "cell_type": "code",
   "execution_count": 16,
   "metadata": {},
   "outputs": [
    {
     "name": "stdout",
     "output_type": "stream",
     "text": [
      "Epoch 1/50\n",
      "9/9 [==============================] - 3s 320ms/step - loss: 2.7152 - accuracy: 0.1583\n",
      "Epoch 2/50\n",
      "9/9 [==============================] - 5s 553ms/step - loss: 2.7088 - accuracy: 0.1475\n",
      "Epoch 3/50\n",
      "9/9 [==============================] - 4s 467ms/step - loss: 2.7138 - accuracy: 0.1439\n",
      "Epoch 4/50\n",
      "9/9 [==============================] - 5s 600ms/step - loss: 2.7066 - accuracy: 0.1547\n",
      "Epoch 5/50\n",
      "9/9 [==============================] - 6s 644ms/step - loss: 2.7031 - accuracy: 0.1583\n",
      "Epoch 6/50\n",
      "9/9 [==============================] - 6s 657ms/step - loss: 2.7131 - accuracy: 0.1583\n",
      "Epoch 7/50\n",
      "9/9 [==============================] - 6s 638ms/step - loss: 2.7119 - accuracy: 0.1439\n",
      "Epoch 8/50\n",
      "9/9 [==============================] - 6s 639ms/step - loss: 2.7039 - accuracy: 0.1439\n",
      "Epoch 9/50\n",
      "9/9 [==============================] - 6s 647ms/step - loss: 2.7192 - accuracy: 0.1583\n",
      "Epoch 10/50\n",
      "9/9 [==============================] - 6s 636ms/step - loss: 2.7025 - accuracy: 0.1547\n",
      "Epoch 11/50\n",
      "9/9 [==============================] - 5s 568ms/step - loss: 2.6985 - accuracy: 0.2050\n",
      "Epoch 12/50\n",
      "9/9 [==============================] - 4s 429ms/step - loss: 2.7078 - accuracy: 0.1547\n",
      "Epoch 13/50\n",
      "9/9 [==============================] - 5s 502ms/step - loss: 2.6992 - accuracy: 0.1583\n",
      "Epoch 14/50\n",
      "9/9 [==============================] - 4s 422ms/step - loss: 2.6903 - accuracy: 0.1583\n",
      "Epoch 15/50\n",
      "9/9 [==============================] - 6s 661ms/step - loss: 2.6982 - accuracy: 0.1835\n",
      "Epoch 16/50\n",
      "9/9 [==============================] - 6s 633ms/step - loss: 2.6989 - accuracy: 0.1619\n",
      "Epoch 17/50\n",
      "9/9 [==============================] - 6s 619ms/step - loss: 2.6874 - accuracy: 0.1906\n",
      "Epoch 18/50\n",
      "9/9 [==============================] - 6s 621ms/step - loss: 2.6916 - accuracy: 0.1871\n",
      "Epoch 19/50\n",
      "9/9 [==============================] - 5s 596ms/step - loss: 2.6935 - accuracy: 0.1655\n",
      "Epoch 20/50\n",
      "9/9 [==============================] - 5s 599ms/step - loss: 2.6760 - accuracy: 0.1619\n",
      "Epoch 21/50\n",
      "9/9 [==============================] - 6s 627ms/step - loss: 2.6627 - accuracy: 0.2338\n",
      "Epoch 22/50\n",
      "9/9 [==============================] - 6s 639ms/step - loss: 2.6426 - accuracy: 0.2050\n",
      "Epoch 23/50\n",
      "9/9 [==============================] - 6s 630ms/step - loss: 2.6116 - accuracy: 0.2482\n",
      "Epoch 24/50\n",
      "9/9 [==============================] - 6s 633ms/step - loss: 2.5894 - accuracy: 0.2554\n",
      "Epoch 25/50\n",
      "9/9 [==============================] - 6s 630ms/step - loss: 2.5427 - accuracy: 0.2590\n",
      "Epoch 26/50\n",
      "9/9 [==============================] - 5s 597ms/step - loss: 2.4976 - accuracy: 0.2626\n",
      "Epoch 27/50\n",
      "9/9 [==============================] - 6s 617ms/step - loss: 2.4445 - accuracy: 0.2662\n",
      "Epoch 28/50\n",
      "9/9 [==============================] - 6s 613ms/step - loss: 2.3960 - accuracy: 0.2806\n",
      "Epoch 29/50\n",
      "9/9 [==============================] - 5s 588ms/step - loss: 2.3597 - accuracy: 0.3129\n",
      "Epoch 30/50\n",
      "9/9 [==============================] - 5s 589ms/step - loss: 2.3395 - accuracy: 0.3237\n",
      "Epoch 31/50\n",
      "9/9 [==============================] - 5s 593ms/step - loss: 2.3111 - accuracy: 0.3309\n",
      "Epoch 32/50\n",
      "9/9 [==============================] - 6s 615ms/step - loss: 2.2768 - accuracy: 0.3201\n",
      "Epoch 33/50\n",
      "9/9 [==============================] - 5s 608ms/step - loss: 2.2348 - accuracy: 0.3561\n",
      "Epoch 34/50\n",
      "9/9 [==============================] - 6s 613ms/step - loss: 2.1796 - accuracy: 0.3777\n",
      "Epoch 35/50\n",
      "9/9 [==============================] - 5s 585ms/step - loss: 2.1464 - accuracy: 0.3741\n",
      "Epoch 36/50\n",
      "9/9 [==============================] - 5s 586ms/step - loss: 2.1186 - accuracy: 0.3705\n",
      "Epoch 37/50\n",
      "9/9 [==============================] - 5s 595ms/step - loss: 2.0551 - accuracy: 0.3993\n",
      "Epoch 38/50\n",
      "9/9 [==============================] - 3s 360ms/step - loss: 2.0205 - accuracy: 0.3957\n",
      "Epoch 39/50\n",
      "9/9 [==============================] - 3s 343ms/step - loss: 1.9884 - accuracy: 0.4065\n",
      "Epoch 40/50\n",
      "9/9 [==============================] - 3s 331ms/step - loss: 1.9180 - accuracy: 0.4173\n",
      "Epoch 41/50\n",
      "9/9 [==============================] - 3s 326ms/step - loss: 1.8615 - accuracy: 0.4460\n",
      "Epoch 42/50\n",
      "9/9 [==============================] - 3s 319ms/step - loss: 1.8281 - accuracy: 0.4568\n",
      "Epoch 43/50\n",
      "9/9 [==============================] - 3s 323ms/step - loss: 1.7893 - accuracy: 0.4676\n",
      "Epoch 44/50\n",
      "9/9 [==============================] - 3s 324ms/step - loss: 1.7324 - accuracy: 0.4748\n",
      "Epoch 45/50\n",
      "9/9 [==============================] - 3s 325ms/step - loss: 1.7107 - accuracy: 0.4928\n",
      "Epoch 46/50\n",
      "9/9 [==============================] - 4s 430ms/step - loss: 1.6691 - accuracy: 0.4784\n",
      "Epoch 47/50\n",
      "9/9 [==============================] - 6s 628ms/step - loss: 1.6176 - accuracy: 0.5144\n",
      "Epoch 48/50\n",
      "9/9 [==============================] - 6s 630ms/step - loss: 1.5609 - accuracy: 0.5360\n",
      "Epoch 49/50\n",
      "9/9 [==============================] - 6s 629ms/step - loss: 1.5596 - accuracy: 0.5360\n",
      "Epoch 50/50\n",
      "9/9 [==============================] - 6s 616ms/step - loss: 1.5483 - accuracy: 0.5108\n"
     ]
    },
    {
     "data": {
      "text/plain": [
       "<keras.src.callbacks.History at 0x1ec1c447dc0>"
      ]
     },
     "execution_count": 16,
     "metadata": {},
     "output_type": "execute_result"
    }
   ],
   "source": [
    "epochs = 50\n",
    "batch_size = 32\n",
    "model.fit(input_sequences, output_sequences, epochs=epochs, batch_size=batch_size)"
   ]
  },
  {
   "cell_type": "code",
   "execution_count": 17,
   "metadata": {},
   "outputs": [],
   "source": [
    "def generate_text(seed_text, model, tokenizer, sequence_length, num_chars_to_generate):\n",
    "    generated_text = seed_text\n",
    "\n",
    "    for _ in range(num_chars_to_generate):\n",
    "        token_list = tokenizer.texts_to_sequences([generated_text])\n",
    "        token_list = pad_sequences(token_list, maxlen=sequence_length, padding=\"pre\")\n",
    "        predicted_probs = model.predict(token_list, verbose=0)\n",
    "        predicted_token = np.argmax(predicted_probs, axis=-1)[0]  # Get the index of the predicted token\n",
    "\n",
    "        output_word = \"\"\n",
    "        for word, index in tokenizer.word_index.items():\n",
    "            if index == predicted_token:\n",
    "                output_word = word\n",
    "                break\n",
    "\n",
    "        generated_text += output_word\n",
    "\n",
    "    return generated_text\n"
   ]
  },
  {
   "cell_type": "code",
   "execution_count": 18,
   "metadata": {},
   "outputs": [
    {
     "name": "stdout",
     "output_type": "stream",
     "text": [
      "Article 2 of Indian Constitution territories the territories the territories the territories the territories the territories the territories the territories the territories the terri\n"
     ]
    }
   ],
   "source": [
    "seed_text = \"Article 2 of Indian Constitution\"\n",
    "\n",
    "generated_text = generate_text(seed_text, model, tokenizer, sequence_length, num_chars_to_generate=150)\n",
    "print(generated_text)"
   ]
  },
  {
   "cell_type": "code",
   "execution_count": null,
   "metadata": {},
   "outputs": [],
   "source": []
  }
 ],
 "metadata": {
  "kernelspec": {
   "display_name": "Python 3",
   "language": "python",
   "name": "python3"
  },
  "language_info": {
   "codemirror_mode": {
    "name": "ipython",
    "version": 3
   },
   "file_extension": ".py",
   "mimetype": "text/x-python",
   "name": "python",
   "nbconvert_exporter": "python",
   "pygments_lexer": "ipython3",
   "version": "3.10.6"
  }
 },
 "nbformat": 4,
 "nbformat_minor": 2
}
