{
  "nbformat": 4,
  "nbformat_minor": 0,
  "metadata": {
    "colab": {
      "provenance": []
    },
    "kernelspec": {
      "name": "python3",
      "display_name": "Python 3"
    },
    "language_info": {
      "name": "python"
    }
  },
  "cells": [
    {
      "cell_type": "code",
      "execution_count": 46,
      "metadata": {
        "id": "zmhLGsLZw-9U"
      },
      "outputs": [],
      "source": [
        "import pandas as pd\n",
        "import numpy as np\n",
        "import matplotlib.pyplot as plt\n",
        "from sklearn.linear_model import Perceptron\n",
        "from sklearn.model_selection import train_test_split\n",
        "from sklearn.metrics import accuracy_score\n",
        "from keras.datasets import mnist"
      ]
    },
    {
      "cell_type": "markdown",
      "source": [
        "Splitting the data"
      ],
      "metadata": {
        "id": "CHG7eCoDyDre"
      }
    },
    {
      "cell_type": "code",
      "source": [
        "(x_train,y_train),(x_test,y_test) = mnist.load_data()"
      ],
      "metadata": {
        "id": "8sA0QFcJyNJ4"
      },
      "execution_count": 48,
      "outputs": []
    },
    {
      "cell_type": "code",
      "source": [
        "from keras.utils import to_categorical\n",
        "\n",
        "x_train = x_train / 255.0\n",
        "x_test = x_test / 255.0\n",
        "\n",
        "y_train = to_categorical(y_train,10)\n",
        "y_test = to_categorical(y_test,10)"
      ],
      "metadata": {
        "id": "q7SrKZ3EyVHI"
      },
      "execution_count": 49,
      "outputs": []
    },
    {
      "cell_type": "markdown",
      "source": [
        "Implementing Multi Layer Perceptron"
      ],
      "metadata": {
        "id": "iVwTkVAK15KH"
      }
    },
    {
      "cell_type": "code",
      "source": [
        "import keras\n",
        "from keras.models import Sequential\n",
        "from keras.layers import Dense,Flatten"
      ],
      "metadata": {
        "id": "1EP-Qa8VzoR5"
      },
      "execution_count": 50,
      "outputs": []
    },
    {
      "cell_type": "code",
      "source": [
        "model = Sequential()\n",
        "\n",
        "model.add(Flatten(input_shape = (28,28)))\n",
        "model.add(Dense(64, activation = \"relu\"))\n",
        "model.add(Dense(10,activation = \"softmax\"))"
      ],
      "metadata": {
        "id": "ZQ5g-sZ32Dlq"
      },
      "execution_count": 51,
      "outputs": []
    },
    {
      "cell_type": "code",
      "source": [
        "model.compile(loss = \"categorical_crossentropy\",optimizer = \"adam\",metrics = ['accuracy'])"
      ],
      "metadata": {
        "id": "QtVv0KXa260i"
      },
      "execution_count": 55,
      "outputs": []
    },
    {
      "cell_type": "code",
      "source": [
        "model.summary()"
      ],
      "metadata": {
        "colab": {
          "base_uri": "https://localhost:8080/"
        },
        "id": "Kaq4oPqa3b7L",
        "outputId": "b5a988ab-8c84-43f3-bb9b-0d323862bd69"
      },
      "execution_count": 56,
      "outputs": [
        {
          "output_type": "stream",
          "name": "stdout",
          "text": [
            "Model: \"sequential_2\"\n",
            "_________________________________________________________________\n",
            " Layer (type)                Output Shape              Param #   \n",
            "=================================================================\n",
            " flatten (Flatten)           (None, 784)               0         \n",
            "                                                                 \n",
            " dense_3 (Dense)             (None, 64)                50240     \n",
            "                                                                 \n",
            " dense_4 (Dense)             (None, 10)                650       \n",
            "                                                                 \n",
            "=================================================================\n",
            "Total params: 50890 (198.79 KB)\n",
            "Trainable params: 50890 (198.79 KB)\n",
            "Non-trainable params: 0 (0.00 Byte)\n",
            "_________________________________________________________________\n"
          ]
        }
      ]
    },
    {
      "cell_type": "code",
      "source": [
        "model.fit(x_train,y_train,epochs = 5,batch_size = 32,verbose = True,validation_split = 0.1)"
      ],
      "metadata": {
        "colab": {
          "base_uri": "https://localhost:8080/"
        },
        "id": "eZY0R7sj3dvY",
        "outputId": "559f93b8-1c44-435b-9b7b-ffee8b2c06ac"
      },
      "execution_count": 57,
      "outputs": [
        {
          "output_type": "stream",
          "name": "stdout",
          "text": [
            "Epoch 1/5\n",
            "1688/1688 [==============================] - 6s 3ms/step - loss: 0.3116 - accuracy: 0.9115 - val_loss: 0.1421 - val_accuracy: 0.9588\n",
            "Epoch 2/5\n",
            "1688/1688 [==============================] - 4s 3ms/step - loss: 0.1554 - accuracy: 0.9550 - val_loss: 0.1098 - val_accuracy: 0.9672\n",
            "Epoch 3/5\n",
            "1688/1688 [==============================] - 4s 3ms/step - loss: 0.1129 - accuracy: 0.9669 - val_loss: 0.0991 - val_accuracy: 0.9700\n",
            "Epoch 4/5\n",
            "1688/1688 [==============================] - 5s 3ms/step - loss: 0.0900 - accuracy: 0.9732 - val_loss: 0.0893 - val_accuracy: 0.9750\n",
            "Epoch 5/5\n",
            "1688/1688 [==============================] - 4s 3ms/step - loss: 0.0743 - accuracy: 0.9778 - val_loss: 0.0919 - val_accuracy: 0.9732\n"
          ]
        },
        {
          "output_type": "execute_result",
          "data": {
            "text/plain": [
              "<keras.src.callbacks.History at 0x794b30612e30>"
            ]
          },
          "metadata": {},
          "execution_count": 57
        }
      ]
    },
    {
      "cell_type": "code",
      "source": [
        "model.evaluate(x_test,y_test)"
      ],
      "metadata": {
        "colab": {
          "base_uri": "https://localhost:8080/"
        },
        "id": "9cgUlYqX6scc",
        "outputId": "0fcf60d8-44f2-48a5-ed6f-099b20dddf35"
      },
      "execution_count": 59,
      "outputs": [
        {
          "output_type": "stream",
          "name": "stdout",
          "text": [
            "313/313 [==============================] - 2s 7ms/step - loss: 0.0901 - accuracy: 0.9744\n"
          ]
        },
        {
          "output_type": "execute_result",
          "data": {
            "text/plain": [
              "[0.09005455672740936, 0.974399983882904]"
            ]
          },
          "metadata": {},
          "execution_count": 59
        }
      ]
    },
    {
      "cell_type": "code",
      "source": [],
      "metadata": {
        "id": "BzufL5Gl7dJH"
      },
      "execution_count": null,
      "outputs": []
    }
  ]
}