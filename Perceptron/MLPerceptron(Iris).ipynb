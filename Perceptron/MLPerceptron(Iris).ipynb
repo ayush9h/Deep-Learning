{
  "nbformat": 4,
  "nbformat_minor": 0,
  "metadata": {
    "colab": {
      "provenance": []
    },
    "kernelspec": {
      "name": "python3",
      "display_name": "Python 3"
    },
    "language_info": {
      "name": "python"
    }
  },
  "cells": [
    {
      "cell_type": "code",
      "execution_count": null,
      "metadata": {
        "id": "zmhLGsLZw-9U"
      },
      "outputs": [],
      "source": [
        "import pandas as pd\n",
        "import numpy as np\n",
        "import matplotlib.pyplot as plt\n",
        "from sklearn.linear_model import Perceptron\n",
        "from sklearn.model_selection import train_test_split\n",
        "from sklearn.preprocessing import StandardScaler\n",
        "from sklearn.metrics import accuracy_score\n",
        "from sklearn import datasets"
      ]
    },
    {
      "cell_type": "code",
      "source": [
        "df = datasets.load_iris()"
      ],
      "metadata": {
        "id": "03ao8mQVxTjQ"
      },
      "execution_count": null,
      "outputs": []
    },
    {
      "cell_type": "markdown",
      "source": [
        "Splitting the data"
      ],
      "metadata": {
        "id": "CHG7eCoDyDre"
      }
    },
    {
      "cell_type": "code",
      "source": [
        "X_train,X_test,y_train,y_test = train_test_split(df.data,df.target,test_size = 0.25, random_state = 42)"
      ],
      "metadata": {
        "id": "8sA0QFcJyNJ4"
      },
      "execution_count": null,
      "outputs": []
    },
    {
      "cell_type": "code",
      "source": [
        "sc = StandardScaler()\n",
        "X_train_std = sc.fit_transform(X_train)\n",
        "X_test_std = sc.fit_transform(X_test)"
      ],
      "metadata": {
        "id": "q7SrKZ3EyVHI"
      },
      "execution_count": null,
      "outputs": []
    },
    {
      "cell_type": "markdown",
      "source": [
        "Implementing Multi Layer Perceptron"
      ],
      "metadata": {
        "id": "iVwTkVAK15KH"
      }
    },
    {
      "cell_type": "code",
      "source": [
        "import keras\n",
        "from keras.models import Sequential\n",
        "from keras.layers import Dense"
      ],
      "metadata": {
        "id": "1EP-Qa8VzoR5"
      },
      "execution_count": null,
      "outputs": []
    },
    {
      "cell_type": "code",
      "source": [
        "model = Sequential()\n",
        "\n",
        "#Input Layer\n",
        "model.add(Dense(units = 4, activation = \"relu\",input_dim = 4))\n",
        "\n",
        "#Hidden Layer\n",
        "model.add(Dense(units = 4,activation = \"relu\"))\n",
        "\n",
        "#Output Layer\n",
        "model.add(Dense(units = 3, activation = \"softmax\"))"
      ],
      "metadata": {
        "id": "ZQ5g-sZ32Dlq"
      },
      "execution_count": null,
      "outputs": []
    },
    {
      "cell_type": "code",
      "source": [
        "model.compile(loss = \"sparse_categorical_crossentropy\",optimizer = \"adam\",metrics = ['accuracy'])"
      ],
      "metadata": {
        "id": "QtVv0KXa260i"
      },
      "execution_count": null,
      "outputs": []
    },
    {
      "cell_type": "code",
      "source": [
        "model.summary()"
      ],
      "metadata": {
        "colab": {
          "base_uri": "https://localhost:8080/"
        },
        "id": "Kaq4oPqa3b7L",
        "outputId": "1a8b27b2-0af5-4a98-dd6b-76ed2bec26ad"
      },
      "execution_count": null,
      "outputs": [
        {
          "output_type": "stream",
          "name": "stdout",
          "text": [
            "Model: \"sequential_1\"\n",
            "_________________________________________________________________\n",
            " Layer (type)                Output Shape              Param #   \n",
            "=================================================================\n",
            " dense (Dense)               (None, 4)                 20        \n",
            "                                                                 \n",
            " dense_1 (Dense)             (None, 4)                 20        \n",
            "                                                                 \n",
            " dense_2 (Dense)             (None, 3)                 15        \n",
            "                                                                 \n",
            "=================================================================\n",
            "Total params: 55 (220.00 Byte)\n",
            "Trainable params: 55 (220.00 Byte)\n",
            "Non-trainable params: 0 (0.00 Byte)\n",
            "_________________________________________________________________\n"
          ]
        }
      ]
    },
    {
      "cell_type": "code",
      "source": [
        "model.fit(X_train_std,y_train,epochs = 5,batch_size = 32,verbose = True,validation_split = 0.1)"
      ],
      "metadata": {
        "colab": {
          "base_uri": "https://localhost:8080/"
        },
        "id": "eZY0R7sj3dvY",
        "outputId": "3e2eab19-910b-4592-f964-99b7341b446c"
      },
      "execution_count": null,
      "outputs": [
        {
          "output_type": "stream",
          "name": "stdout",
          "text": [
            "Epoch 1/5\n",
            "4/4 [==============================] - 0s 42ms/step - loss: 0.3210 - accuracy: 0.9100 - val_loss: 0.5096 - val_accuracy: 0.8333\n",
            "Epoch 2/5\n",
            "4/4 [==============================] - 0s 33ms/step - loss: 0.3198 - accuracy: 0.9100 - val_loss: 0.5084 - val_accuracy: 0.8333\n",
            "Epoch 3/5\n",
            "4/4 [==============================] - 0s 27ms/step - loss: 0.3189 - accuracy: 0.9100 - val_loss: 0.5077 - val_accuracy: 0.8333\n",
            "Epoch 4/5\n",
            "4/4 [==============================] - 0s 24ms/step - loss: 0.3180 - accuracy: 0.9100 - val_loss: 0.5069 - val_accuracy: 0.8333\n",
            "Epoch 5/5\n",
            "4/4 [==============================] - 0s 24ms/step - loss: 0.3171 - accuracy: 0.9100 - val_loss: 0.5060 - val_accuracy: 0.8333\n"
          ]
        },
        {
          "output_type": "execute_result",
          "data": {
            "text/plain": [
              "<keras.src.callbacks.History at 0x794ad4f8af50>"
            ]
          },
          "metadata": {},
          "execution_count": 41
        }
      ]
    }
  ]
}