{
  "cells": [
    {
      "cell_type": "code",
      "execution_count": null,
      "metadata": {
        "id": "kwkuRGVkeb_P"
      },
      "outputs": [],
      "source": [
        "import matplotlib.pyplot as plt\n",
        "import numpy as np\n",
        "import pandas as pd\n",
        "import tensorflow as tf"
      ]
    },
    {
      "cell_type": "code",
      "execution_count": null,
      "metadata": {
        "colab": {
          "base_uri": "https://localhost:8080/"
        },
        "id": "ya9ku6PDeb_S",
        "outputId": "5fb7928a-c311-4f0d-e73e-3c07877cd085"
      },
      "outputs": [
        {
          "output_type": "stream",
          "name": "stdout",
          "text": [
            "Downloading data from https://www.cs.toronto.edu/~kriz/cifar-100-python.tar.gz\n",
            "169001437/169001437 [==============================] - 2s 0us/step\n"
          ]
        },
        {
          "output_type": "execute_result",
          "data": {
            "text/plain": [
              "(50000, 32, 32, 3)"
            ]
          },
          "metadata": {},
          "execution_count": 2
        }
      ],
      "source": [
        "(X_train,y_train),(X_test,y_test) = tf.keras.datasets.cifar100.load_data()\n",
        "X_train.shape"
      ]
    },
    {
      "cell_type": "code",
      "execution_count": null,
      "metadata": {
        "colab": {
          "base_uri": "https://localhost:8080/"
        },
        "id": "yjqMSlZzeb_S",
        "outputId": "63b9f06a-1b87-4c05-ade5-2e051baa5eb3"
      },
      "outputs": [
        {
          "output_type": "execute_result",
          "data": {
            "text/plain": [
              "(10000, 32, 32, 3)"
            ]
          },
          "metadata": {},
          "execution_count": 3
        }
      ],
      "source": [
        "X_test.shape"
      ]
    },
    {
      "cell_type": "code",
      "execution_count": null,
      "metadata": {
        "colab": {
          "base_uri": "https://localhost:8080/",
          "height": 234
        },
        "id": "2FE4ItiPeb_T",
        "outputId": "2d4f5bea-e3ed-4736-f943-d59408048661"
      },
      "outputs": [
        {
          "output_type": "execute_result",
          "data": {
            "text/plain": [
              "<matplotlib.image.AxesImage at 0x7d6255eaf9a0>"
            ]
          },
          "metadata": {},
          "execution_count": 4
        },
        {
          "output_type": "display_data",
          "data": {
            "text/plain": [
              "<Figure size 1500x200 with 1 Axes>"
            ],
            "image/png": "[encoded data removed]"
          },
          "metadata": {}
        }
      ],
      "source": [
        "plt.figure(figsize=(15,2))\n",
        "plt.imshow(X_train[2])"
      ]
    },
    {
      "cell_type": "markdown",
      "metadata": {
        "id": "FEdI2wfjeb_T"
      },
      "source": [
        "Normalizing the values"
      ]
    },
    {
      "cell_type": "code",
      "execution_count": null,
      "metadata": {
        "id": "XllDoL6Eeb_U"
      },
      "outputs": [],
      "source": [
        "X_train = X_train / 255\n",
        "X_test = X_test / 255"
      ]
    },
    {
      "cell_type": "code",
      "execution_count": null,
      "metadata": {
        "id": "P3ieb1lseb_U"
      },
      "outputs": [],
      "source": [
        "model = tf.keras.models.Sequential([\n",
        "    tf.keras.layers.Conv2D(32,(3,3),activation=\"relu\",input_shape = (32,32,3)),\n",
        "    tf.keras.layers.MaxPooling2D((2,2)),\n",
        "    tf.keras.layers.Conv2D(64,(3,3),activation=\"relu\"),\n",
        "    tf.keras.layers.MaxPooling2D((2,2)),\n",
        "    tf.keras.layers.Conv2D(128, (3, 3), activation='relu'),\n",
        "\n",
        "    tf.keras.layers.Flatten(),\n",
        "    tf.keras.layers.Dense(256,activation = \"relu\"),\n",
        "    tf.keras.layers.BatchNormalization(),\n",
        "    tf.keras.layers.Dense(256,activation = \"relu\"),\n",
        "    tf.keras.layers.Dropout(0.5),\n",
        "    tf.keras.layers.Dense(100,activation = \"softmax\"),\n",
        "])"
      ]
    },
    {
      "cell_type": "code",
      "execution_count": null,
      "metadata": {
        "id": "N2tQa8nreb_U"
      },
      "outputs": [],
      "source": [
        "model.compile(optimizer=\"adam\",loss = \"sparse_categorical_crossentropy\",metrics=[\"accuracy\"])"
      ]
    },
    {
      "cell_type": "code",
      "execution_count": null,
      "metadata": {
        "colab": {
          "base_uri": "https://localhost:8080/"
        },
        "id": "zSM2dCFIeb_U",
        "outputId": "b99d3db5-2d5c-47bf-e80e-3c4c16c112ce"
      },
      "outputs": [
        {
          "output_type": "stream",
          "name": "stdout",
          "text": [
            "Epoch 1/10\n",
            "1563/1563 [==============================] - 50s 31ms/step - loss: 3.8141 - accuracy: 0.1144\n",
            "Epoch 2/10\n",
            "1563/1563 [==============================] - 49s 31ms/step - loss: 3.2300 - accuracy: 0.2101\n",
            "Epoch 3/10\n",
            "1563/1563 [==============================] - 49s 31ms/step - loss: 2.9750 - accuracy: 0.2562\n",
            "Epoch 4/10\n",
            "1563/1563 [==============================] - 63s 40ms/step - loss: 2.8239 - accuracy: 0.2859\n",
            "Epoch 5/10\n",
            "1563/1563 [==============================] - 50s 32ms/step - loss: 2.7243 - accuracy: 0.3069\n",
            "Epoch 6/10\n",
            "1563/1563 [==============================] - 50s 32ms/step - loss: 2.6351 - accuracy: 0.3265\n",
            "Epoch 7/10\n",
            "1563/1563 [==============================] - 48s 31ms/step - loss: 2.5698 - accuracy: 0.3365\n",
            "Epoch 8/10\n",
            "1563/1563 [==============================] - 51s 33ms/step - loss: 2.5190 - accuracy: 0.3483\n",
            "Epoch 9/10\n",
            "1563/1563 [==============================] - 48s 31ms/step - loss: 2.4609 - accuracy: 0.3610\n",
            "Epoch 10/10\n",
            "1563/1563 [==============================] - 49s 31ms/step - loss: 2.4213 - accuracy: 0.3671\n"
          ]
        },
        {
          "output_type": "execute_result",
          "data": {
            "text/plain": [
              "<keras.src.callbacks.History at 0x7d6252958610>"
            ]
          },
          "metadata": {},
          "execution_count": 8
        }
      ],
      "source": [
        "model.fit(X_train,y_train,epochs = 10)"
      ]
    },
    {
      "cell_type": "code",
      "execution_count": null,
      "metadata": {
        "colab": {
          "base_uri": "https://localhost:8080/"
        },
        "id": "kLRnsGAHeb_U",
        "outputId": "d923fa13-b062-48f7-c5ad-b536983cb18f"
      },
      "outputs": [
        {
          "output_type": "stream",
          "name": "stdout",
          "text": [
            "313/313 [==============================] - 4s 13ms/step - loss: 2.5512 - accuracy: 0.3628\n",
            "Loss 2.5511906147003174\n",
            "Accuracy: 36.28000020980835 %\n"
          ]
        }
      ],
      "source": [
        "loss,accuracy = model.evaluate(X_test,y_test)\n",
        "print(\"Loss:\",loss)\n",
        "print(\"Accuracy:\",accuracy*100, \"%\")"
      ]
    },
    {
      "cell_type": "code",
      "source": [
        "model.summary()"
      ],
      "metadata": {
        "colab": {
          "base_uri": "https://localhost:8080/"
        },
        "id": "xJEIjMt1jTNM",
        "outputId": "f4dcab8d-81ab-4574-f332-d45d6a135f6c"
      },
      "execution_count": null,
      "outputs": [
        {
          "output_type": "stream",
          "name": "stdout",
          "text": [
            "Model: \"sequential_2\"\n",
            "_________________________________________________________________\n",
            " Layer (type)                Output Shape              Param #   \n",
            "=================================================================\n",
            " conv2d_7 (Conv2D)           (None, 30, 30, 32)        896       \n",
            "                                                                 \n",
            " max_pooling2d_5 (MaxPoolin  (None, 15, 15, 32)        0         \n",
            " g2D)                                                            \n",
            "                                                                 \n",
            " conv2d_8 (Conv2D)           (None, 13, 13, 64)        18496     \n",
            "                                                                 \n",
            " max_pooling2d_6 (MaxPoolin  (None, 6, 6, 64)          0         \n",
            " g2D)                                                            \n",
            "                                                                 \n",
            " conv2d_9 (Conv2D)           (None, 4, 4, 128)         73856     \n",
            "                                                                 \n",
            " flatten_2 (Flatten)         (None, 2048)              0         \n",
            "                                                                 \n",
            " dense_6 (Dense)             (None, 256)               524544    \n",
            "                                                                 \n",
            " batch_normalization_2 (Bat  (None, 256)               1024      \n",
            " chNormalization)                                                \n",
            "                                                                 \n",
            " dense_7 (Dense)             (None, 256)               65792     \n",
            "                                                                 \n",
            " dropout_2 (Dropout)         (None, 256)               0         \n",
            "                                                                 \n",
            " dense_8 (Dense)             (None, 100)               25700     \n",
            "                                                                 \n",
            "=================================================================\n",
            "Total params: 710308 (2.71 MB)\n",
            "Trainable params: 709796 (2.71 MB)\n",
            "Non-trainable params: 512 (2.00 KB)\n",
            "_________________________________________________________________\n"
          ]
        }
      ]
    },
    {
      "cell_type": "code",
      "source": [
        "import numpy as np\n",
        "from sklearn.linear_model import LogisticRegression\n",
        "from sklearn.metrics import accuracy_score\n",
        "from sklearn.preprocessing import StandardScaler\n",
        "import warnings\n",
        "warnings.filterwarnings(\"ignore\")\n",
        "\n",
        "# Create a new model that outputs the features from the last convolutional layer\n",
        "convolutional_layer_model = tf.keras.models.Model(inputs=model.inputs, outputs=model.layers[-3].output)\n",
        "\n",
        "# Extract features for the training and test sets\n",
        "train_features = convolutional_layer_model.predict(X_train)\n",
        "test_features = convolutional_layer_model.predict(X_test)\n",
        "\n",
        "# Flatten the features\n",
        "train_features_flat = train_features.reshape(train_features.shape[0], -1)\n",
        "test_features_flat = test_features.reshape(test_features.shape[0], -1)\n",
        "\n",
        "# Standardize the features\n",
        "scaler = StandardScaler()\n",
        "train_features_scaled = scaler.fit_transform(train_features_flat)\n",
        "test_features_scaled = scaler.transform(test_features_flat)\n",
        "\n",
        "# Flatten the labels\n",
        "train_labels_flat = y_train.flatten()\n",
        "test_labels_flat = y_test.flatten()\n",
        "\n",
        "# Train logistic regression\n",
        "log_reg = LogisticRegression(max_iter=250)\n",
        "log_reg.fit(train_features_scaled, train_labels_flat)\n",
        "\n",
        "# Predict using logistic regression\n",
        "log_reg_predictions = log_reg.predict(test_features_scaled)\n",
        "\n",
        "# Calculate accuracy\n",
        "log_reg_accuracy = accuracy_score(test_labels_flat, log_reg_predictions)\n",
        "print(\"Test accuracy using Logistic Regression on extracted features:\", log_reg_accuracy*100,\"%\")\n"
      ],
      "metadata": {
        "colab": {
          "base_uri": "https://localhost:8080/"
        },
        "id": "cPkaQsYcgzpR",
        "outputId": "3b030486-4b0b-45a6-9b7f-86cbbea1c405"
      },
      "execution_count": null,
      "outputs": [
        {
          "output_type": "stream",
          "name": "stdout",
          "text": [
            "1563/1563 [==============================] - 16s 10ms/step\n",
            "313/313 [==============================] - 4s 11ms/step\n",
            "Test accuracy using Logistic Regression on extracted features: 19.09 %\n"
          ]
        }
      ]
    },
    {
      "cell_type": "code",
      "source": [],
      "metadata": {
        "id": "VKi_8yCFi6oi"
      },
      "execution_count": null,
      "outputs": []
    }
  ],
  "metadata": {
    "kernelspec": {
      "display_name": "Python 3",
      "language": "python",
      "name": "python3"
    },
    "language_info": {
      "codemirror_mode": {
        "name": "ipython",
        "version": 3
      },
      "file_extension": ".py",
      "mimetype": "text/x-python",
      "name": "python",
      "nbconvert_exporter": "python",
      "pygments_lexer": "ipython3",
      "version": "3.10.6"
    },
    "orig_nbformat": 4,
    "colab": {
      "provenance": []
    }
  },
  "nbformat": 4,
  "nbformat_minor": 0
}